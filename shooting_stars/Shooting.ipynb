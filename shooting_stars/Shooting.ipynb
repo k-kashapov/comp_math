{
 "cells": [
  {
   "cell_type": "markdown",
   "id": "83dde5b9",
   "metadata": {},
   "source": [
    "# Solves the boundary problem using shooting method"
   ]
  },
  {
   "cell_type": "markdown",
   "id": "851fae4a",
   "metadata": {},
   "source": [
    "## Aristova XI.9.3"
   ]
  },
  {
   "cell_type": "markdown",
   "id": "0c05f02a",
   "metadata": {},
   "source": [
    "![alt text](task.png)"
   ]
  },
  {
   "cell_type": "code",
   "execution_count": 5,
   "id": "4de1dc52",
   "metadata": {},
   "outputs": [],
   "source": [
    "import numpy as np\n",
    "import matplotlib.pyplot as plt"
   ]
  },
  {
   "cell_type": "code",
   "execution_count": 10,
   "id": "5555a0f1",
   "metadata": {},
   "outputs": [],
   "source": [
    "h = 4e-5\n",
    "x_arr = np.arange(0.0, 1.0, h)\n",
    "\n",
    "# XI.9.3\n",
    "def d2y(x, y):\n",
    "    return x * np.sqrt(y)\n",
    "\n",
    "def d2u(x, u):\n",
    "    return x / 2 / np.sqrt(y) * u\n",
    "\n",
    "def f(x, f0, df):\n",
    "    f_new = f0 + df(x, f0) * h\n",
    "\n",
    "    eps = 1e-4\n",
    "    for i in range(1000):\n",
    "        if abs(f_new - f0) <= eps:\n",
    "            return f_new\n",
    "        f0 = f_new\n",
    "        f_new = f0 + df(x, f0) * h\n",
    "\n",
    "#     print(\"\\nToo many iterations!\")\n",
    "    return f_new\n",
    "\n",
    "def calcY(y0, alpha):\n",
    "    y = y0\n",
    "    dy = alpha\n",
    "\n",
    "    ys = []\n",
    "\n",
    "    for x in x_arr:\n",
    "        ys.append(y)\n",
    "        y += dy * h\n",
    "        dy = f(x, dy, d2y)\n",
    "\n",
    "    plt.plot(x_arr, ys)\n",
    "\n",
    "    return ys\n"
   ]
  },
  {
   "cell_type": "code",
   "execution_count": null,
   "id": "f379608e",
   "metadata": {
    "scrolled": false
   },
   "outputs": [],
   "source": [
    "np.set_printoptions(floatmode='maxprec', suppress=True)\n",
    "y0 = 0\n",
    "y1 = 2\n",
    "alpha = 0.0\n",
    "\n",
    "h_alpha = 1e-2\n",
    "\n",
    "eps = 1e-7\n",
    "\n",
    "y_new = calcY(y0, alpha)\n",
    "F = y_new[-1] - y1\n",
    "while abs(F) > eps:\n",
    "    y_new = calcY(y0, alpha + h_alpha)\n",
    "    dF = (y_new[-1] - y1 - F) / h_alpha\n",
    "\n",
    "    alpha = alpha - F/dF\n",
    "\n",
    "    y_new = calcY(y0, alpha)\n",
    "    F = y_new[-1] - y1\n",
    "    print(f\"alpha = {alpha}, y = {y_new[-1]}\")\n",
    "\n",
    "print(f\"alpha = {alpha}, y = {y_new[-1]}\")\n",
    "\n",
    "plt.grid()\n",
    "plt.xlabel(\"X\")\n",
    "plt.ylabel(\"Y\")\n",
    "\n",
    "plt.title(f\"Y(X), alpha final = {alpha}\")\n",
    "\n",
    "plt.show()"
   ]
  },
  {
   "cell_type": "code",
   "execution_count": null,
   "id": "3c706bb7",
   "metadata": {},
   "outputs": [],
   "source": [
    "# Final plot\n",
    "\n",
    "plt.title(\"Final plot\")\n",
    "plt.grid()\n",
    "plt.xlabel(\"X\")\n",
    "plt.ylabel(\"Y\")\n",
    "plt.plot(x_arr, y_new)"
   ]
  },
  {
   "cell_type": "code",
   "execution_count": null,
   "id": "1ab1daaa",
   "metadata": {},
   "outputs": [],
   "source": []
  }
 ],
 "metadata": {
  "kernelspec": {
   "display_name": "Python 3 (ipykernel)",
   "language": "python",
   "name": "python3"
  },
  "language_info": {
   "codemirror_mode": {
    "name": "ipython",
    "version": 3
   },
   "file_extension": ".py",
   "mimetype": "text/x-python",
   "name": "python",
   "nbconvert_exporter": "python",
   "pygments_lexer": "ipython3",
   "version": "3.10.12"
  }
 },
 "nbformat": 4,
 "nbformat_minor": 5
}
