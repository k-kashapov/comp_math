{
 "cells": [
  {
   "cell_type": "markdown",
   "id": "83dde5b9",
   "metadata": {},
   "source": [
    "# Solves the boundary problem using quasilinearisation method"
   ]
  },
  {
   "cell_type": "markdown",
   "id": "851fae4a",
   "metadata": {},
   "source": [
    "## Aristova XI.9.3"
   ]
  },
  {
   "cell_type": "markdown",
   "id": "0c05f02a",
   "metadata": {},
   "source": [
    "![alt text](task.png)"
   ]
  },
  {
   "cell_type": "code",
   "execution_count": 2,
   "id": "8706583c",
   "metadata": {},
   "outputs": [],
   "source": [
    "import numpy as np\n",
    "import matplotlib.pyplot as plt"
   ]
  },
  {
   "cell_type": "code",
   "execution_count": 3,
   "id": "b0fb8a59",
   "metadata": {},
   "outputs": [],
   "source": [
    "# Constants:\n",
    "y0 = 0\n",
    "y1 = 2\n",
    "\n",
    "alpha = 0.2\n",
    "h_alpha = 1e-2\n",
    "\n",
    "eps = 1e-7\n",
    "h = 1e-4\n",
    "\n",
    "x_arr = np.arange(0.0, 1.0, h)"
   ]
  },
  {
   "cell_type": "code",
   "execution_count": 4,
   "id": "bc9f85ff",
   "metadata": {},
   "outputs": [],
   "source": [
    "# Miscelaneous functions\n",
    "\n",
    "def step(x, u0, du):\n",
    "    res = u0 + du(x, u0) * h\n",
    "\n",
    "    eps = 1e-4\n",
    "    for i in range(1000):\n",
    "        if abs(res - u0) <= eps:\n",
    "            return res\n",
    "        u0 = res\n",
    "        res = u0 + du(x, u0) * h\n",
    "\n",
    "    print(\"\\nToo many iterations!\")\n",
    "    return res\n",
    "\n",
    "def calcY(y0, alpha):\n",
    "    y = y0\n",
    "    dy = alpha\n",
    "\n",
    "    ys = []\n",
    "\n",
    "    print(f\"y0 = {y0}, alpha = {alpha}:\")\n",
    "\n",
    "    for x in x_arr:\n",
    "        print(f\"\\rCalculating... x = {x}\", end=\"\")\n",
    "        ys.append(y)\n",
    "        y += dy * h\n",
    "        dy = step(x, dy, d2y)\n",
    "    print()\n",
    "\n",
    "    plt.plot(x_arr, ys)\n",
    "\n",
    "    return ys"
   ]
  },
  {
   "cell_type": "code",
   "execution_count": 5,
   "id": "abdcdb99",
   "metadata": {},
   "outputs": [],
   "source": [
    "# Task-specific functions\n",
    "\n",
    "def d2y(x, y):\n",
    "    return x * np.sqrt(y)\n",
    "\n",
    "def y(y_arr, x):\n",
    "    idx = int(x / h)\n",
    "    return y_arr[idx]\n",
    "\n",
    "# p = df/dy'\n",
    "def p(x):\n",
    "    return 0\n",
    "\n",
    "# q = df/dy\n",
    "def q(x):\n",
    "    return x / 2 / np.sqrt(y0)\n",
    "\n",
    "# r = f(x, y0, y0') - y0''\n",
    "def r(x):\n",
    "    return d2y(x, y0) - d2y(0, y0)\n"
   ]
  },
  {
   "cell_type": "markdown",
   "id": "93d424dc",
   "metadata": {},
   "source": [
    "## Linearization"
   ]
  },
  {
   "cell_type": "markdown",
   "id": "e25c0ad1",
   "metadata": {},
   "source": [
    "\\begin{equation}\n",
    "\\large\n",
    "    \\nu'' = p(x) \\nu' + q(x) \\nu + r(x)\n",
    "    \\\\\\\\\n",
    "\\large\n",
    "    \\nu'' = \\frac{\\partial f(x, y_0, y_0')}{\\partial y'} \\nu' + \\frac{\\partial f(x, y_0, y_0')}{\\partial y} \\nu + f(x, y_0, y_0') - y_0''\n",
    "\\end{equation}"
   ]
  },
  {
   "cell_type": "markdown",
   "id": "4f19f82b",
   "metadata": {},
   "source": [
    "\\begin{equation}\n",
    "\\large\n",
    "\\frac{\\nu_{k+1}^{m+1} - 2\\nu_{k}^{m+1} + \\nu_{k-1}^{m+1}}{h^2} = x_k \\cdot \\sqrt{\\nu^{m+1}} \\\\\\\\\n",
    "\\large\n",
    "\\frac{\\nu_{k+1}^{m+1} - 2\\nu_{k}^{m+1} + \\nu_{k-1}^{m+1}}{h^2} = x_k \\cdot \\sqrt{\\nu^{m}_k} + \\frac{x_k}{2\\sqrt{\\nu^{m}_k}} \\cdot (\\nu^{m+1}_k - \\nu^{m}_k) \\\\\\\\\n",
    "\\large\n",
    "\\nu_N^{m+1} = y(1) = 2\n",
    "\\end{equation}"
   ]
  },
  {
   "cell_type": "code",
   "execution_count": 6,
   "id": "d8c701e4",
   "metadata": {
    "scrolled": false
   },
   "outputs": [
    {
     "name": "stdout",
     "output_type": "stream",
     "text": [
      "New iteration\n",
      "New iteration\n"
     ]
    },
    {
     "data": {
      "text/plain": [
       "Text(0.5, 0, 'Y')"
      ]
     },
     "execution_count": 6,
     "metadata": {},
     "output_type": "execute_result"
    },
    {
     "data": {
      "image/png": "[encoded data removed]",
      "text/plain": [
       "<Figure size 640x480 with 1 Axes>"
      ]
     },
     "metadata": {},
     "output_type": "display_data"
    }
   ],
   "source": [
    "N = x_arr.size\n",
    "y_arr = np.full(N + 1, 1.0)\n",
    "\n",
    "# Coefficient matrix.\n",
    "A = np.zeros((N + 1, N + 1))\n",
    "\n",
    "# Ordinate\n",
    "f = np.zeros(N + 1)\n",
    "\n",
    "def FillMatrices(x_arr, y_arr):\n",
    "    # Filling the matrix\n",
    "    for k in range(1, N):\n",
    "        xk = x_arr[k]\n",
    "        yk = y(y_arr, xk)\n",
    "        h2 = h**2\n",
    "\n",
    "        # nu_{k-1}^{m+1}\n",
    "        A[k][k - 1] = 1.0 / h2\n",
    "\n",
    "        # nu_k^{m+1}\n",
    "        A[k][k] = -2.0 / h2 - xk / 2.0 / np.sqrt(yk)\n",
    "\n",
    "        # nu_{k+1}^{m+1}\n",
    "        A[k][k + 1] = 1.0 / h2 \n",
    "\n",
    "        f[k] = xk / 2.0 * np.sqrt(yk)\n",
    "\n",
    "    # Boundary conditions\n",
    "    A[0][0] = 1.0    \n",
    "    A[N][N] = 1.0\n",
    "\n",
    "    f[0] = y0\n",
    "    f[N] = y1\n",
    "    return A, f\n",
    "\n",
    "\n",
    "# Computation\n",
    "A, f = FillMatrices(x_arr, y_arr)\n",
    "new = np.linalg.solve(A, f)\n",
    "\n",
    "fig = plt.figure()\n",
    "\n",
    "while np.max(np.abs(y_arr - new)) > eps:\n",
    "    plt.plot(x_arr, y_arr[:-1])\n",
    "    print(\"New iteration\")\n",
    "    y_arr = new\n",
    "    A, f = FillMatrices(x_arr, y_arr)\n",
    "    new = np.linalg.solve(A, f)\n",
    "\n",
    "plt.grid()\n",
    "plt.xlabel(\"X\")\n",
    "plt.xlabel(\"Y\")"
   ]
  },
  {
   "cell_type": "code",
   "execution_count": null,
   "id": "0e65844f",
   "metadata": {},
   "outputs": [],
   "source": []
  }
 ],
 "metadata": {
  "kernelspec": {
   "display_name": "Python 3 (ipykernel)",
   "language": "python",
   "name": "python3"
  },
  "language_info": {
   "codemirror_mode": {
    "name": "ipython",
    "version": 3
   },
   "file_extension": ".py",
   "mimetype": "text/x-python",
   "name": "python",
   "nbconvert_exporter": "python",
   "pygments_lexer": "ipython3",
   "version": "3.10.12"
  }
 },
 "nbformat": 4,
 "nbformat_minor": 5
}
